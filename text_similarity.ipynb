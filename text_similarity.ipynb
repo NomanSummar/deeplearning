{
  "nbformat": 4,
  "nbformat_minor": 0,
  "metadata": {
    "colab": {
      "name": "text similarity.ipynb",
      "provenance": [],
      "authorship_tag": "ABX9TyPdRe4F3EBDzwFam9onPvmF"
    },
    "kernelspec": {
      "name": "python3",
      "display_name": "Python 3"
    },
    "language_info": {
      "name": "python"
    }
  },
  "cells": [
    {
      "cell_type": "code",
      "metadata": {
        "id": "w2TX5BGTfT03"
      },
      "source": [
        "import os\n",
        "import tensorflow as tf\n",
        "import gensim\n",
        "import subprocess\n",
        "import numpy as np\n",
        "import matplotlib.pyplot as plt\n",
        "from IPython.core.pylabtools import figsize\n",
        "figsize(10, 10)\n",
        "\n",
        "from sklearn.manifold import TSNE\n",
        "import json\n",
        "from collections import Counter\n",
        "from itertools import chain"
      ],
      "execution_count": null,
      "outputs": []
    },
    {
      "cell_type": "code",
      "metadata": {
        "id": "OZCf4yqPgls2"
      },
      "source": [
        "from tensorflow.keras.utils import get_file\n",
        "%matplotlib inline"
      ],
      "execution_count": null,
      "outputs": []
    },
    {
      "cell_type": "code",
      "metadata": {
        "id": "WXMo4Ncict5w"
      },
      "source": [
        ""
      ],
      "execution_count": null,
      "outputs": []
    },
    {
      "cell_type": "code",
      "metadata": {
        "id": "4miG16Ihgpuv"
      },
      "source": [
        "MODEL = 'GoogleNews-vectors-negative300.bin'\n",
        "path = get_file(MODEL + '.gz', 'https://s3.amazonaws.com/dl4j-distribution/%s.gz' % MODEL)\n",
        "if not os.path.isdir('generated'):\n",
        "    os.mkdir('generated')\n",
        "\n",
        "unzipped = os.path.join('generated', MODEL)\n",
        "if not os.path.isfile(unzipped):\n",
        "    with open(unzipped, 'wb') as fout:\n",
        "        zcat = subprocess.Popen(['zcat'],\n",
        "                          stdin=open(path),\n",
        "                          stdout=fout\n",
        "                         )\n",
        "        zcat.wait()"
      ],
      "execution_count": null,
      "outputs": []
    },
    {
      "cell_type": "code",
      "metadata": {
        "id": "OTXr3L1tcxP2"
      },
      "source": [
        "model = gensim.models.KeyedVectors.load_word2vec_format(unzipped, binary=True)"
      ],
      "execution_count": null,
      "outputs": []
    },
    {
      "cell_type": "code",
      "metadata": {
        "colab": {
          "base_uri": "https://localhost:8080/"
        },
        "id": "NOxTISI0eDN8",
        "outputId": "7b2f3090-7524-4118-e4e9-3600fba0b3c6"
      },
      "source": [
        "model.most_similar(positive=['espresso'])"
      ],
      "execution_count": null,
      "outputs": [
        {
          "output_type": "execute_result",
          "data": {
            "text/plain": [
              "[('cappuccino', 0.6888186931610107),\n",
              " ('mocha', 0.6686208248138428),\n",
              " ('coffee', 0.6616826057434082),\n",
              " ('latte', 0.6536753177642822),\n",
              " ('caramel_macchiato', 0.6491267681121826),\n",
              " ('ristretto', 0.6485546827316284),\n",
              " ('espressos', 0.6438628435134888),\n",
              " ('macchiato', 0.6428250074386597),\n",
              " ('chai_latte', 0.6308027505874634),\n",
              " ('espresso_cappuccino', 0.6280542612075806)]"
            ]
          },
          "metadata": {},
          "execution_count": 8
        }
      ]
    },
    {
      "cell_type": "code",
      "metadata": {
        "colab": {
          "base_uri": "https://localhost:8080/",
          "height": 35
        },
        "id": "mbhpOyAjeGbU",
        "outputId": "31276375-14c1-4907-8924-36e2d5fab5b2"
      },
      "source": [
        "def A_is_to_B_as_C_is_to(a, b, c, topn=1):\n",
        "    a, b, c = map(lambda x:x if type(x) == list else [x], (a, b, c))\n",
        "    res = model.most_similar(positive=b + c, negative=a, topn=topn)\n",
        "    if len(res):\n",
        "        if topn == 1:\n",
        "            return res[0][0]\n",
        "        return [x[0] for x in res]\n",
        "    return None\n",
        "\n",
        "A_is_to_B_as_C_is_to('man', 'woman', 'king')"
      ],
      "execution_count": null,
      "outputs": [
        {
          "output_type": "execute_result",
          "data": {
            "application/vnd.google.colaboratory.intrinsic+json": {
              "type": "string"
            },
            "text/plain": [
              "'queen'"
            ]
          },
          "metadata": {},
          "execution_count": 9
        }
      ]
    },
    {
      "cell_type": "code",
      "metadata": {
        "colab": {
          "base_uri": "https://localhost:8080/"
        },
        "id": "2tZ6novVeYL4",
        "outputId": "214f6ac1-9a06-4a60-d3ac-436c61c47069"
      },
      "source": [
        "for country in 'Italy', 'France', 'India', 'China':\n",
        "    print('%s is the capital of %s' % \n",
        "          (A_is_to_B_as_C_is_to('Germany', 'Berlin', country), country))"
      ],
      "execution_count": null,
      "outputs": [
        {
          "output_type": "stream",
          "name": "stdout",
          "text": [
            "Rome is the capital of Italy\n",
            "Paris is the capital of France\n",
            "Delhi is the capital of India\n",
            "Beijing is the capital of China\n"
          ]
        }
      ]
    },
    {
      "cell_type": "code",
      "metadata": {
        "colab": {
          "base_uri": "https://localhost:8080/"
        },
        "id": "t6hm6UuZeb__",
        "outputId": "5c0340dc-d6c8-47a3-8561-2c65e02d3f6c"
      },
      "source": [
        "for company in 'Google', 'IBM', 'Boeing', 'Microsoft', 'Samsung':\n",
        "    products = A_is_to_B_as_C_is_to(\n",
        "        ['Starbucks', 'Apple'], \n",
        "        ['Starbucks_coffee', 'iPhone'], \n",
        "        company, topn=3)\n",
        "    print('%s -> %s' % \n",
        "          (company, ', '.join(products)))"
      ],
      "execution_count": null,
      "outputs": [
        {
          "output_type": "stream",
          "name": "stdout",
          "text": [
            "Google -> personalized_homepage, app, Gmail\n",
            "IBM -> DB2, WebSphere_Portal, Tamino_XML_Server\n",
            "Boeing -> Dreamliner, airframe, aircraft\n",
            "Microsoft -> Windows_Mobile, SyncMate, Windows\n",
            "Samsung -> MM_A###, handset, Samsung_SCH_B###\n"
          ]
        }
      ]
    },
    {
      "cell_type": "code",
      "metadata": {
        "colab": {
          "base_uri": "https://localhost:8080/"
        },
        "id": "FS1kuXieefqc",
        "outputId": "e67fa29d-3597-4f5c-fba3-bc7c00a2e9d3"
      },
      "source": [
        "beverages = ['espresso', 'beer', 'vodka', 'wine', 'cola', 'tea']\n",
        "countries = ['Italy', 'Germany', 'Russia', 'France', 'USA', 'India']\n",
        "sports = ['soccer', 'handball', 'hockey', 'cycling', 'basketball', 'cricket']\n",
        "\n",
        "items = beverages + countries + sports\n",
        "len(items)"
      ],
      "execution_count": null,
      "outputs": [
        {
          "output_type": "execute_result",
          "data": {
            "text/plain": [
              "18"
            ]
          },
          "metadata": {},
          "execution_count": 14
        }
      ]
    },
    {
      "cell_type": "code",
      "metadata": {
        "colab": {
          "base_uri": "https://localhost:8080/"
        },
        "id": "FRf8efc5euya",
        "outputId": "8d89b1e4-9e70-4ae2-dc29-49f85ad4c0db"
      },
      "source": [
        "item_vectors = [(item, model[item]) \n",
        "                    for item in items\n",
        "                    if item in model]\n",
        "len(item_vectors)"
      ],
      "execution_count": null,
      "outputs": [
        {
          "output_type": "execute_result",
          "data": {
            "text/plain": [
              "18"
            ]
          },
          "metadata": {},
          "execution_count": 15
        }
      ]
    },
    {
      "cell_type": "code",
      "metadata": {
        "colab": {
          "base_uri": "https://localhost:8080/"
        },
        "id": "zW-uZTySei93",
        "outputId": "1e9bf3a7-3e09-480c-fb10-285e1762d462"
      },
      "source": [
        "vectors = np.asarray([x[1] for x in item_vectors])\n",
        "lengths = np.linalg.norm(vectors, axis=1)\n",
        "norm_vectors = (vectors.T / lengths).T\n",
        "\n",
        "tsne = TSNE(n_components=2, perplexity=10, verbose=2).fit_transform(norm_vectors)"
      ],
      "execution_count": null,
      "outputs": [
        {
          "output_type": "stream",
          "name": "stderr",
          "text": [
            "/usr/local/lib/python3.7/dist-packages/sklearn/manifold/_t_sne.py:783: FutureWarning: The default initialization in TSNE will change from 'random' to 'pca' in 1.2.\n",
            "  FutureWarning,\n",
            "/usr/local/lib/python3.7/dist-packages/sklearn/manifold/_t_sne.py:793: FutureWarning: The default learning rate in TSNE will change from 200.0 to 'auto' in 1.2.\n",
            "  FutureWarning,\n"
          ]
        },
        {
          "output_type": "stream",
          "name": "stdout",
          "text": [
            "[t-SNE] Computing 17 nearest neighbors...\n",
            "[t-SNE] Indexed 18 samples in 0.000s...\n",
            "[t-SNE] Computed neighbors for 18 samples in 0.016s...\n",
            "[t-SNE] Computed conditional probabilities for sample 18 / 18\n",
            "[t-SNE] Mean sigma: 0.581543\n",
            "[t-SNE] Computed conditional probabilities in 0.015s\n",
            "[t-SNE] Iteration 50: error = 61.7228317, gradient norm = 0.3009247 (50 iterations in 0.009s)\n",
            "[t-SNE] Iteration 100: error = 53.6870880, gradient norm = 0.1984340 (50 iterations in 0.009s)\n",
            "[t-SNE] Iteration 150: error = 54.7032356, gradient norm = 0.1190412 (50 iterations in 0.009s)\n",
            "[t-SNE] Iteration 200: error = 60.1832619, gradient norm = 0.0867055 (50 iterations in 0.009s)\n",
            "[t-SNE] Iteration 250: error = 62.6166573, gradient norm = 0.0957676 (50 iterations in 0.009s)\n",
            "[t-SNE] KL divergence after 250 iterations with early exaggeration: 62.616657\n",
            "[t-SNE] Iteration 300: error = 1.1969911, gradient norm = 0.0012002 (50 iterations in 0.008s)\n",
            "[t-SNE] Iteration 350: error = 0.9423018, gradient norm = 0.0005171 (50 iterations in 0.009s)\n",
            "[t-SNE] Iteration 400: error = 0.8041356, gradient norm = 0.0002715 (50 iterations in 0.009s)\n",
            "[t-SNE] Iteration 450: error = 0.7476274, gradient norm = 0.0002177 (50 iterations in 0.009s)\n",
            "[t-SNE] Iteration 500: error = 0.5856161, gradient norm = 0.0004485 (50 iterations in 0.009s)\n",
            "[t-SNE] Iteration 550: error = 0.4910933, gradient norm = 0.0002091 (50 iterations in 0.015s)\n",
            "[t-SNE] Iteration 600: error = 0.4527047, gradient norm = 0.0001417 (50 iterations in 0.009s)\n",
            "[t-SNE] Iteration 650: error = 0.4218163, gradient norm = 0.0001229 (50 iterations in 0.009s)\n",
            "[t-SNE] Iteration 700: error = 0.3897354, gradient norm = 0.0001065 (50 iterations in 0.009s)\n",
            "[t-SNE] Iteration 750: error = 0.3568184, gradient norm = 0.0000997 (50 iterations in 0.009s)\n",
            "[t-SNE] Iteration 800: error = 0.3229434, gradient norm = 0.0000922 (50 iterations in 0.009s)\n",
            "[t-SNE] Iteration 850: error = 0.2869629, gradient norm = 0.0000857 (50 iterations in 0.008s)\n",
            "[t-SNE] Iteration 900: error = 0.2548764, gradient norm = 0.0000750 (50 iterations in 0.016s)\n",
            "[t-SNE] Iteration 950: error = 0.2325344, gradient norm = 0.0000425 (50 iterations in 0.009s)\n",
            "[t-SNE] Iteration 1000: error = 0.2290582, gradient norm = 0.0000201 (50 iterations in 0.009s)\n",
            "[t-SNE] KL divergence after 1000 iterations: 0.229058\n"
          ]
        }
      ]
    },
    {
      "cell_type": "code",
      "metadata": {
        "colab": {
          "base_uri": "https://localhost:8080/",
          "height": 266
        },
        "id": "8HNn9d2IeoBQ",
        "outputId": "6b2fa32a-ffb5-431d-c0bf-805bc1195c79"
      },
      "source": [
        "x=tsne[:,0]\n",
        "y=tsne[:,1]\n",
        "\n",
        "fig, ax = plt.subplots()\n",
        "ax.scatter(x, y)\n",
        "\n",
        "for item, x1, y1 in zip(item_vectors, x, y):\n",
        "    ax.annotate(item[0], (x1, y1), size=14)\n",
        "\n",
        "plt.show()"
      ],
      "execution_count": null,
      "outputs": [
        {
          "output_type": "display_data",
          "data": {
            "image/png": "[encoded data removed]",
            "text/plain": [
              "<Figure size 432x288 with 1 Axes>"
            ]
          },
          "metadata": {
            "needs_background": "light"
          }
        }
      ]
    },
    {
      "cell_type": "code",
      "metadata": {
        "id": "06D4V2__e0Sx"
      },
      "source": [
        ""
      ],
      "execution_count": null,
      "outputs": []
    }
  ]
}